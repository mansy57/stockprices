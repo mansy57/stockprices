{
 "cells": [
  {
   "cell_type": "code",
   "execution_count": 1,
   "id": "dc02fb9d",
   "metadata": {},
   "outputs": [],
   "source": [
    "import dash\n",
    "# import dash_html_components as html\n",
    "# import dash_core_components as dcc\n",
    "from dash import dcc\n",
    "from dash import html\n",
    "import plotly.graph_objects as go\n",
    "import pandas as pd\n",
    "from dash.dependencies import Input, Output"
   ]
  },
  {
   "cell_type": "code",
   "execution_count": 2,
   "id": "7ae7f7df",
   "metadata": {},
   "outputs": [
    {
     "data": {
      "text/html": [
       "<div>\n",
       "<style scoped>\n",
       "    .dataframe tbody tr th:only-of-type {\n",
       "        vertical-align: middle;\n",
       "    }\n",
       "\n",
       "    .dataframe tbody tr th {\n",
       "        vertical-align: top;\n",
       "    }\n",
       "\n",
       "    .dataframe thead th {\n",
       "        text-align: right;\n",
       "    }\n",
       "</style>\n",
       "<table border=\"1\" class=\"dataframe\">\n",
       "  <thead>\n",
       "    <tr style=\"text-align: right;\">\n",
       "      <th></th>\n",
       "      <th>Date</th>\n",
       "      <th>stock</th>\n",
       "      <th>value</th>\n",
       "      <th>change</th>\n",
       "    </tr>\n",
       "    <tr>\n",
       "      <th>Date</th>\n",
       "      <th></th>\n",
       "      <th></th>\n",
       "      <th></th>\n",
       "      <th></th>\n",
       "    </tr>\n",
       "  </thead>\n",
       "  <tbody>\n",
       "    <tr>\n",
       "      <th>2007-01-03</th>\n",
       "      <td>2007-01-03</td>\n",
       "      <td>MSFT</td>\n",
       "      <td>23.950705</td>\n",
       "      <td>-0.167452</td>\n",
       "    </tr>\n",
       "    <tr>\n",
       "      <th>2007-01-03</th>\n",
       "      <td>2007-01-03</td>\n",
       "      <td>IBM</td>\n",
       "      <td>80.517962</td>\n",
       "      <td>1.069189</td>\n",
       "    </tr>\n",
       "    <tr>\n",
       "      <th>2007-01-03</th>\n",
       "      <td>2007-01-03</td>\n",
       "      <td>SBUX</td>\n",
       "      <td>16.149666</td>\n",
       "      <td>0.113476</td>\n",
       "    </tr>\n",
       "    <tr>\n",
       "      <th>2007-01-03</th>\n",
       "      <td>2007-01-03</td>\n",
       "      <td>AAPL</td>\n",
       "      <td>11.086612</td>\n",
       "      <td>2.219569</td>\n",
       "    </tr>\n",
       "    <tr>\n",
       "      <th>2007-01-03</th>\n",
       "      <td>2007-01-03</td>\n",
       "      <td>GSPC</td>\n",
       "      <td>1416.599976</td>\n",
       "      <td>0.122829</td>\n",
       "    </tr>\n",
       "  </tbody>\n",
       "</table>\n",
       "</div>"
      ],
      "text/plain": [
       "                  Date stock        value    change\n",
       "Date                                               \n",
       "2007-01-03  2007-01-03  MSFT    23.950705 -0.167452\n",
       "2007-01-03  2007-01-03   IBM    80.517962  1.069189\n",
       "2007-01-03  2007-01-03  SBUX    16.149666  0.113476\n",
       "2007-01-03  2007-01-03  AAPL    11.086612  2.219569\n",
       "2007-01-03  2007-01-03  GSPC  1416.599976  0.122829"
      ]
     },
     "execution_count": 2,
     "metadata": {},
     "output_type": "execute_result"
    }
   ],
   "source": [
    "\n",
    "# Load data\n",
    "df = pd.read_csv('data/stockdata2.csv', index_col=0, parse_dates=True)\n",
    "df.index = pd.to_datetime(df['Date'])\n",
    "df.head()"
   ]
  },
  {
   "cell_type": "code",
   "execution_count": 3,
   "id": "c7cd7232",
   "metadata": {},
   "outputs": [],
   "source": [
    "# Initialize the app\n",
    "app = dash.Dash(__name__)\n",
    "app.config.suppress_callback_exceptions = True"
   ]
  },
  {
   "cell_type": "code",
   "execution_count": 4,
   "id": "2cc58bc5",
   "metadata": {},
   "outputs": [],
   "source": [
    "def get_options(list_stocks):\n",
    "    dict_list = []\n",
    "    for i in list_stocks:\n",
    "        dict_list.append({'label': i, 'value': i})\n",
    "\n",
    "    return dict_list\n",
    "\n",
    "\n",
    "app.layout = html.Div(\n",
    "    children=[\n",
    "        html.Div(className='row',\n",
    "                 children=[\n",
    "                    html.Div(className='four columns div-user-controls',\n",
    "                             children=[\n",
    "                                 html.H2('STOCK PRICES'),\n",
    "                                 html.P('Visualising time series.'),\n",
    "                                 html.P('Pick one or more stocks from the dropdown below.'),\n",
    "                                 html.Div(\n",
    "                                     className='div-for-dropdown',\n",
    "                                     children=[\n",
    "                                         dcc.Dropdown(id='stockselector', options=get_options(df['stock'].unique()),\n",
    "                                                      multi=True, value=[df['stock'].sort_values()[0]],\n",
    "                                                      style={'backgroundColor': 'black'},\n",
    "                                                      className='stockselector'\n",
    "                                                      ),\n",
    "                                     ],\n",
    "                                     style={'color': '#1E1E1E'})\n",
    "                                ]\n",
    "                             ),\n",
    "                    html.Div(className='eight columns div-for-charts bg-grey',\n",
    "                             children=[\n",
    "                                 dcc.Graph(id='timeseries', config={'displayModeBar': False}, animate=True)\n",
    "                             ])\n",
    "                              ])\n",
    "        ]\n",
    "\n",
    ")"
   ]
  },
  {
   "cell_type": "code",
   "execution_count": null,
   "id": "8b408744",
   "metadata": {},
   "outputs": [
    {
     "name": "stdout",
     "output_type": "stream",
     "text": [
      "Dash is running on http://127.0.0.1:8060/\n",
      "\n",
      " * Serving Flask app \"__main__\" (lazy loading)\n",
      " * Environment: production\n",
      "   WARNING: This is a development server. Do not use it in a production deployment.\n",
      "   Use a production WSGI server instead.\n",
      " * Debug mode: off\n"
     ]
    },
    {
     "name": "stderr",
     "output_type": "stream",
     "text": [
      " * Running on http://127.0.0.1:8060/ (Press CTRL+C to quit)\n",
      "127.0.0.1 - - [27/Oct/2021 15:26:28] \"\u001b[37mGET / HTTP/1.1\u001b[0m\" 200 -\n",
      "127.0.0.1 - - [27/Oct/2021 15:26:28] \"\u001b[37mGET /_dash-layout HTTP/1.1\u001b[0m\" 200 -\n",
      "127.0.0.1 - - [27/Oct/2021 15:26:28] \"\u001b[37mGET /_dash-dependencies HTTP/1.1\u001b[0m\" 200 -\n",
      "127.0.0.1 - - [27/Oct/2021 15:26:28] \"\u001b[37mGET /_dash-component-suites/dash/dcc/async-dropdown.js HTTP/1.1\u001b[0m\" 200 -\n",
      "127.0.0.1 - - [27/Oct/2021 15:26:28] \"\u001b[37mGET /_dash-component-suites/dash/dcc/async-graph.js HTTP/1.1\u001b[0m\" 200 -\n",
      "127.0.0.1 - - [27/Oct/2021 15:26:28] \"\u001b[37mGET /_dash-component-suites/dash/dcc/async-plotlyjs.js HTTP/1.1\u001b[0m\" 200 -\n",
      "127.0.0.1 - - [27/Oct/2021 15:26:29] \"\u001b[37mPOST /_dash-update-component HTTP/1.1\u001b[0m\" 200 -\n",
      "127.0.0.1 - - [27/Oct/2021 15:38:03] \"\u001b[37mPOST /_dash-update-component HTTP/1.1\u001b[0m\" 200 -\n",
      "127.0.0.1 - - [27/Oct/2021 15:39:00] \"\u001b[37mPOST /_dash-update-component HTTP/1.1\u001b[0m\" 200 -\n",
      "127.0.0.1 - - [27/Oct/2021 15:39:15] \"\u001b[37mGET / HTTP/1.1\u001b[0m\" 200 -\n",
      "127.0.0.1 - - [27/Oct/2021 15:39:15] \"\u001b[37mGET /_dash-layout HTTP/1.1\u001b[0m\" 200 -\n",
      "127.0.0.1 - - [27/Oct/2021 15:39:15] \"\u001b[37mGET /_dash-dependencies HTTP/1.1\u001b[0m\" 200 -\n",
      "127.0.0.1 - - [27/Oct/2021 15:39:15] \"\u001b[37mGET /_dash-component-suites/dash/dcc/async-dropdown.js HTTP/1.1\u001b[0m\" 200 -\n",
      "127.0.0.1 - - [27/Oct/2021 15:39:15] \"\u001b[37mGET /_dash-component-suites/dash/dcc/async-graph.js HTTP/1.1\u001b[0m\" 200 -\n",
      "127.0.0.1 - - [27/Oct/2021 15:39:15] \"\u001b[37mGET /_dash-component-suites/dash/dcc/async-plotlyjs.js HTTP/1.1\u001b[0m\" 200 -\n",
      "127.0.0.1 - - [27/Oct/2021 15:39:15] \"\u001b[37mPOST /_dash-update-component HTTP/1.1\u001b[0m\" 200 -\n"
     ]
    }
   ],
   "source": [
    "# Callback for timeseries price\n",
    "@app.callback(Output('timeseries', 'figure'),\n",
    "              [Input('stockselector', 'value')])\n",
    "def update_graph(selected_dropdown_value):\n",
    "    trace1 = []\n",
    "    df_sub = df\n",
    "    for stock in selected_dropdown_value:\n",
    "        trace1.append(go.Scatter(x=df_sub[df_sub['stock'] == stock].index,\n",
    "                                 y=df_sub[df_sub['stock'] == stock]['value'],\n",
    "                                 mode='lines',\n",
    "                                 opacity=0.7,\n",
    "                                 name=stock,\n",
    "                                 textposition='bottom center'))\n",
    "    traces = [trace1]\n",
    "    data = [val for sublist in traces for val in sublist]\n",
    "    figure = {'data': data,\n",
    "              'layout': go.Layout(\n",
    "                  colorway=['white', 'red', 'blue', 'cyan', 'yellow', 'green'],\n",
    "                  template='plotly_dark',\n",
    "                  paper_bgcolor='rgba(0, 0, 0, 0)',\n",
    "                  plot_bgcolor='rgba(0, 0, 0, 0)',\n",
    "                  margin={'b': 15},\n",
    "                  hovermode='x',\n",
    "                  autosize=True,\n",
    "                  title={'text': 'Stock Prices', 'font': {'color': 'white'}, 'x': 0.5},\n",
    "                  xaxis={'range': [df_sub.index.min(), df_sub.index.max()]},\n",
    "              ),\n",
    "\n",
    "              }\n",
    "\n",
    "    return figure\n",
    "\n",
    "\n",
    "if __name__ == '__main__':\n",
    "    app.run_server(port=8060)"
   ]
  },
  {
   "cell_type": "code",
   "execution_count": null,
   "id": "07750273",
   "metadata": {},
   "outputs": [],
   "source": [
    "\n"
   ]
  },
  {
   "cell_type": "code",
   "execution_count": null,
   "id": "df810f22",
   "metadata": {},
   "outputs": [],
   "source": []
  },
  {
   "cell_type": "code",
   "execution_count": null,
   "id": "cc8f2abc",
   "metadata": {},
   "outputs": [],
   "source": []
  },
  {
   "cell_type": "code",
   "execution_count": null,
   "id": "d23d430f",
   "metadata": {},
   "outputs": [],
   "source": []
  },
  {
   "cell_type": "code",
   "execution_count": null,
   "id": "805adc09",
   "metadata": {},
   "outputs": [],
   "source": [
    "\n"
   ]
  },
  {
   "cell_type": "code",
   "execution_count": null,
   "id": "73fac3e5",
   "metadata": {},
   "outputs": [],
   "source": []
  }
 ],
 "metadata": {
  "kernelspec": {
   "display_name": "Python 3",
   "language": "python",
   "name": "python3"
  },
  "language_info": {
   "codemirror_mode": {
    "name": "ipython",
    "version": 3
   },
   "file_extension": ".py",
   "mimetype": "text/x-python",
   "name": "python",
   "nbconvert_exporter": "python",
   "pygments_lexer": "ipython3",
   "version": "3.8.8"
  }
 },
 "nbformat": 4,
 "nbformat_minor": 5
}
